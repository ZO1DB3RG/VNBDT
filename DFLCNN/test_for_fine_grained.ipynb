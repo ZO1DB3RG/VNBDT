{
 "cells": [
  {
   "cell_type": "code",
   "execution_count": 1,
   "id": "4ee0233f",
   "metadata": {},
   "outputs": [
    {
     "name": "stdout",
     "output_type": "stream",
     "text": [
      "not enough values to unpack (expected 2, got 0)\n"
     ]
    }
   ],
   "source": [
    "from DFLCNN.DFL import DFL_VGG16\n",
    "import torch.nn as nn\n",
    "import torch\n",
    "import collections\n",
    "from vnbdt import transform_onlysize, get_transform\n",
    "from nbdt.utils import DATASET_TO_CLASSES\n",
    "from PIL import Image"
   ]
  },
  {
   "cell_type": "code",
   "execution_count": 2,
   "id": "179e7ffa",
   "metadata": {},
   "outputs": [],
   "source": [
    "model = DFL_VGG16(k = 10, nclass = 30)\n",
    "checkpoint = torch.load('./pretrain_model/model_best.pth.tar', map_location='cpu')"
   ]
  },
  {
   "cell_type": "code",
   "execution_count": 3,
   "id": "9d81ba30",
   "metadata": {},
   "outputs": [
    {
     "data": {
      "text/plain": [
       "<All keys matched successfully>"
      ]
     },
     "execution_count": 3,
     "metadata": {},
     "output_type": "execute_result"
    }
   ],
   "source": [
    "ckpt_new = collections.OrderedDict()\n",
    "for layer in checkpoint['state_dict'].keys():\n",
    "    ckpt_new[layer[7:]] = checkpoint['state_dict'][layer]\n",
    "start_epoch = checkpoint['epoch']\n",
    "best_prec1 = checkpoint['best_prec1']\n",
    "model.load_state_dict(ckpt_new)"
   ]
  },
  {
   "cell_type": "code",
   "execution_count": 16,
   "id": "6e0661e6",
   "metadata": {},
   "outputs": [],
   "source": [
    "path_img = './ori_image/7.jpg'\n",
    "index2classlist = DATASET_TO_CLASSES['FGVC']\n",
    "\n",
    "img = Image.open(path_img)\n",
    "transform1 = get_transform()       # transform for predict \n",
    "transform2 = transform_onlysize()\n",
    "img_pad = transform2(img)\n",
    "img_tensor = transform1(img)\n",
    "img_tensor = img_tensor.unsqueeze(0)\n",
    "out1, out2, out3, indices = model(img_tensor)\n",
    "out = out1 + out2 + 0.1 *out3\n",
    "value, index = torch.max(out.cpu(), 1)\n",
    "dirname = index2classlist[int(index[0])]"
   ]
  },
  {
   "cell_type": "code",
   "execution_count": 17,
   "id": "c14551b7",
   "metadata": {},
   "outputs": [
    {
     "data": {
      "text/plain": [
       "'Supermarine'"
      ]
     },
     "execution_count": 17,
     "metadata": {},
     "output_type": "execute_result"
    }
   ],
   "source": [
    "dirname"
   ]
  },
  {
   "cell_type": "code",
   "execution_count": 18,
   "id": "e3271754",
   "metadata": {},
   "outputs": [
    {
     "data": {
      "text/plain": [
       "tensor([4.9540], grad_fn=<MaxBackward0>)"
      ]
     },
     "execution_count": 18,
     "metadata": {},
     "output_type": "execute_result"
    }
   ],
   "source": [
    "value"
   ]
  },
  {
   "cell_type": "code",
   "execution_count": 19,
   "id": "4e4ec183",
   "metadata": {},
   "outputs": [
    {
     "data": {
      "text/plain": [
       "tensor([26])"
      ]
     },
     "execution_count": 19,
     "metadata": {},
     "output_type": "execute_result"
    }
   ],
   "source": [
    "index"
   ]
  },
  {
   "cell_type": "code",
   "execution_count": 26,
   "id": "25f86f5a",
   "metadata": {},
   "outputs": [],
   "source": [
    "a = model.state_dict()['cls5.0.weight'].squeeze()"
   ]
  },
  {
   "cell_type": "code",
   "execution_count": 4,
   "id": "95a14b58",
   "metadata": {},
   "outputs": [
    {
     "data": {
      "text/plain": [
       "DFL_VGG16(\n",
       "  (conv1_conv4): Sequential(\n",
       "    (0): Conv2d(3, 64, kernel_size=(3, 3), stride=(1, 1), padding=(1, 1))\n",
       "    (1): BatchNorm2d(64, eps=1e-05, momentum=0.1, affine=True, track_running_stats=True)\n",
       "    (2): ReLU(inplace=True)\n",
       "    (3): Conv2d(64, 64, kernel_size=(3, 3), stride=(1, 1), padding=(1, 1))\n",
       "    (4): BatchNorm2d(64, eps=1e-05, momentum=0.1, affine=True, track_running_stats=True)\n",
       "    (5): ReLU(inplace=True)\n",
       "    (6): MaxPool2d(kernel_size=2, stride=2, padding=0, dilation=1, ceil_mode=False)\n",
       "    (7): Conv2d(64, 128, kernel_size=(3, 3), stride=(1, 1), padding=(1, 1))\n",
       "    (8): BatchNorm2d(128, eps=1e-05, momentum=0.1, affine=True, track_running_stats=True)\n",
       "    (9): ReLU(inplace=True)\n",
       "    (10): Conv2d(128, 128, kernel_size=(3, 3), stride=(1, 1), padding=(1, 1))\n",
       "    (11): BatchNorm2d(128, eps=1e-05, momentum=0.1, affine=True, track_running_stats=True)\n",
       "    (12): ReLU(inplace=True)\n",
       "    (13): MaxPool2d(kernel_size=2, stride=2, padding=0, dilation=1, ceil_mode=False)\n",
       "    (14): Conv2d(128, 256, kernel_size=(3, 3), stride=(1, 1), padding=(1, 1))\n",
       "    (15): BatchNorm2d(256, eps=1e-05, momentum=0.1, affine=True, track_running_stats=True)\n",
       "    (16): ReLU(inplace=True)\n",
       "    (17): Conv2d(256, 256, kernel_size=(3, 3), stride=(1, 1), padding=(1, 1))\n",
       "    (18): BatchNorm2d(256, eps=1e-05, momentum=0.1, affine=True, track_running_stats=True)\n",
       "    (19): ReLU(inplace=True)\n",
       "    (20): Conv2d(256, 256, kernel_size=(3, 3), stride=(1, 1), padding=(1, 1))\n",
       "    (21): BatchNorm2d(256, eps=1e-05, momentum=0.1, affine=True, track_running_stats=True)\n",
       "    (22): ReLU(inplace=True)\n",
       "    (23): MaxPool2d(kernel_size=2, stride=2, padding=0, dilation=1, ceil_mode=False)\n",
       "    (24): Conv2d(256, 512, kernel_size=(3, 3), stride=(1, 1), padding=(1, 1))\n",
       "    (25): BatchNorm2d(512, eps=1e-05, momentum=0.1, affine=True, track_running_stats=True)\n",
       "    (26): ReLU(inplace=True)\n",
       "    (27): Conv2d(512, 512, kernel_size=(3, 3), stride=(1, 1), padding=(1, 1))\n",
       "    (28): BatchNorm2d(512, eps=1e-05, momentum=0.1, affine=True, track_running_stats=True)\n",
       "    (29): ReLU(inplace=True)\n",
       "    (30): Conv2d(512, 512, kernel_size=(3, 3), stride=(1, 1), padding=(1, 1))\n",
       "    (31): BatchNorm2d(512, eps=1e-05, momentum=0.1, affine=True, track_running_stats=True)\n",
       "    (32): ReLU(inplace=True)\n",
       "  )\n",
       "  (conv5): Sequential(\n",
       "    (0): MaxPool2d(kernel_size=2, stride=2, padding=0, dilation=1, ceil_mode=False)\n",
       "    (1): Conv2d(512, 512, kernel_size=(3, 3), stride=(1, 1), padding=(1, 1))\n",
       "    (2): BatchNorm2d(512, eps=1e-05, momentum=0.1, affine=True, track_running_stats=True)\n",
       "    (3): ReLU(inplace=True)\n",
       "    (4): Conv2d(512, 512, kernel_size=(3, 3), stride=(1, 1), padding=(1, 1))\n",
       "    (5): BatchNorm2d(512, eps=1e-05, momentum=0.1, affine=True, track_running_stats=True)\n",
       "    (6): ReLU(inplace=True)\n",
       "    (7): Conv2d(512, 512, kernel_size=(3, 3), stride=(1, 1), padding=(1, 1))\n",
       "    (8): BatchNorm2d(512, eps=1e-05, momentum=0.1, affine=True, track_running_stats=True)\n",
       "    (9): ReLU(inplace=True)\n",
       "    (10): MaxPool2d(kernel_size=2, stride=2, padding=0, dilation=1, ceil_mode=False)\n",
       "  )\n",
       "  (cls5): Sequential(\n",
       "    (0): Conv2d(512, 30, kernel_size=(1, 1), stride=(1, 1))\n",
       "    (1): BatchNorm2d(30, eps=1e-05, momentum=0.1, affine=True, track_running_stats=True)\n",
       "    (2): ReLU(inplace=True)\n",
       "    (3): AdaptiveAvgPool2d(output_size=(1, 1))\n",
       "  )\n",
       "  (conv6): Conv2d(512, 300, kernel_size=(1, 1), stride=(1, 1))\n",
       "  (pool6): MaxPool2d(kernel_size=(56, 56), stride=(56, 56), padding=0, dilation=1, ceil_mode=False)\n",
       "  (cls6): Sequential(\n",
       "    (0): Conv2d(300, 30, kernel_size=(1, 1), stride=(1, 1))\n",
       "    (1): AdaptiveAvgPool2d(output_size=(1, 1))\n",
       "  )\n",
       "  (cross_channel_pool): AvgPool1d(kernel_size=(10,), stride=(10,), padding=(0,))\n",
       ")"
      ]
     },
     "execution_count": 4,
     "metadata": {},
     "output_type": "execute_result"
    }
   ],
   "source": [
    "model"
   ]
  },
  {
   "cell_type": "code",
   "execution_count": null,
   "id": "e9ce7822",
   "metadata": {},
   "outputs": [],
   "source": []
  }
 ],
 "metadata": {
  "kernelspec": {
   "display_name": "Python [conda env:pytorch]",
   "language": "python",
   "name": "conda-env-pytorch-py"
  },
  "language_info": {
   "codemirror_mode": {
    "name": "ipython",
    "version": 3
   },
   "file_extension": ".py",
   "mimetype": "text/x-python",
   "name": "python",
   "nbconvert_exporter": "python",
   "pygments_lexer": "ipython3",
   "version": "3.6.13"
  }
 },
 "nbformat": 4,
 "nbformat_minor": 5
}
