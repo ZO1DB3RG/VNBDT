{
 "cells": [
  {
   "cell_type": "code",
   "execution_count": 1,
   "id": "c63f8f70",
   "metadata": {},
   "outputs": [],
   "source": [
    "train_dir = './log/log_train.txt'\n",
    "test_dir = './log/log_test.txt'"
   ]
  },
  {
   "cell_type": "code",
   "execution_count": 2,
   "id": "37bcffee",
   "metadata": {},
   "outputs": [],
   "source": [
    "import re\n",
    "import pandas as pd"
   ]
  },
  {
   "cell_type": "code",
   "execution_count": 3,
   "id": "6b4c0ee6",
   "metadata": {
    "scrolled": true
   },
   "outputs": [
    {
     "data": {
      "text/plain": [
       "['0', '1', '5.667', '5', '30.667']"
      ]
     },
     "execution_count": 3,
     "metadata": {},
     "output_type": "execute_result"
    }
   ],
   "source": [
    "a = 'DFL-CNN <==> Test <==> Epoch: [   0] Top1:5.667% Top5:30.667%'\n",
    "re.findall(r'[0-9]+\\.?[0-9]*',a)"
   ]
  },
  {
   "cell_type": "code",
   "execution_count": 67,
   "id": "e7dacec7",
   "metadata": {},
   "outputs": [
    {
     "data": {
      "text/plain": [
       "1.1"
      ]
     },
     "execution_count": 67,
     "metadata": {},
     "output_type": "execute_result"
    }
   ],
   "source": [
    "a = '1.1'\n",
    "float(a)"
   ]
  },
  {
   "cell_type": "code",
   "execution_count": 68,
   "id": "63bb435a",
   "metadata": {},
   "outputs": [],
   "source": [
    "flag = 1\n",
    "batch = []\n",
    "epoch = []\n",
    "loss = []\n",
    "loss1 = []\n",
    "loss2 = []\n",
    "loss3 = []\n",
    "acc_1 = []\n",
    "acc_5 = []\n",
    "for line in open(train_dir,\"r\"):\n",
    "    if flag % 3 == 1:\n",
    "        result = re.findall(r'[0-9]+\\.?[0-9]*',line)\n",
    "        epoch.append(int(result[0]))\n",
    "        batch.append(int(result[1]))\n",
    "    elif flag %3 == 2:\n",
    "        result = re.findall(r'[0-9]+\\.?[0-9]*',line)\n",
    "        loss.append(float(result[0]))\n",
    "        loss1.append(float(result[3]))\n",
    "        loss2.append(float(result[6]))\n",
    "        loss3.append(float(result[9]))\n",
    "    else :\n",
    "        result = re.findall(r'[0-9]+\\.?[0-9]*',line)\n",
    "        acc_1.append(float(result[1]))\n",
    "        acc_5.append(float(result[3]))\n",
    "    flag += 1"
   ]
  },
  {
   "cell_type": "code",
   "execution_count": 69,
   "id": "30d5c62c",
   "metadata": {},
   "outputs": [
    {
     "data": {
      "text/plain": [
       "3871"
      ]
     },
     "execution_count": 69,
     "metadata": {},
     "output_type": "execute_result"
    }
   ],
   "source": [
    "flag"
   ]
  },
  {
   "cell_type": "code",
   "execution_count": 70,
   "id": "ccb948d0",
   "metadata": {},
   "outputs": [],
   "source": [
    "df = pd.DataFrame({'epoch':epoch, 'batch':batch,\n",
    "                  'loss':loss, 'loss1':loss1, 'loss2':loss2, 'loss3':loss3,\n",
    "                  'acc_1':acc_1, 'acc_5':acc_5})"
   ]
  },
  {
   "cell_type": "code",
   "execution_count": 71,
   "id": "42afb4ff",
   "metadata": {},
   "outputs": [
    {
     "data": {
      "text/html": [
       "<div>\n",
       "<style scoped>\n",
       "    .dataframe tbody tr th:only-of-type {\n",
       "        vertical-align: middle;\n",
       "    }\n",
       "\n",
       "    .dataframe tbody tr th {\n",
       "        vertical-align: top;\n",
       "    }\n",
       "\n",
       "    .dataframe thead th {\n",
       "        text-align: right;\n",
       "    }\n",
       "</style>\n",
       "<table border=\"1\" class=\"dataframe\">\n",
       "  <thead>\n",
       "    <tr style=\"text-align: right;\">\n",
       "      <th></th>\n",
       "      <th>epoch</th>\n",
       "      <th>batch</th>\n",
       "      <th>loss</th>\n",
       "      <th>loss1</th>\n",
       "      <th>loss2</th>\n",
       "      <th>loss3</th>\n",
       "      <th>acc_1</th>\n",
       "      <th>acc_5</th>\n",
       "    </tr>\n",
       "  </thead>\n",
       "  <tbody>\n",
       "    <tr>\n",
       "      <th>0</th>\n",
       "      <td>0</td>\n",
       "      <td>0</td>\n",
       "      <td>7.2844</td>\n",
       "      <td>3.3825</td>\n",
       "      <td>3.5619</td>\n",
       "      <td>3.4000</td>\n",
       "      <td>3.571</td>\n",
       "      <td>14.286</td>\n",
       "    </tr>\n",
       "    <tr>\n",
       "      <th>1</th>\n",
       "      <td>0</td>\n",
       "      <td>1</td>\n",
       "      <td>7.3242</td>\n",
       "      <td>3.4107</td>\n",
       "      <td>3.5726</td>\n",
       "      <td>3.4087</td>\n",
       "      <td>4.464</td>\n",
       "      <td>16.964</td>\n",
       "    </tr>\n",
       "    <tr>\n",
       "      <th>2</th>\n",
       "      <td>0</td>\n",
       "      <td>2</td>\n",
       "      <td>7.3015</td>\n",
       "      <td>3.4091</td>\n",
       "      <td>3.5532</td>\n",
       "      <td>3.3915</td>\n",
       "      <td>4.762</td>\n",
       "      <td>18.452</td>\n",
       "    </tr>\n",
       "    <tr>\n",
       "      <th>3</th>\n",
       "      <td>0</td>\n",
       "      <td>3</td>\n",
       "      <td>7.2941</td>\n",
       "      <td>3.3928</td>\n",
       "      <td>3.5618</td>\n",
       "      <td>3.3956</td>\n",
       "      <td>4.464</td>\n",
       "      <td>19.196</td>\n",
       "    </tr>\n",
       "    <tr>\n",
       "      <th>4</th>\n",
       "      <td>0</td>\n",
       "      <td>4</td>\n",
       "      <td>7.3631</td>\n",
       "      <td>3.4770</td>\n",
       "      <td>3.5440</td>\n",
       "      <td>3.4214</td>\n",
       "      <td>4.643</td>\n",
       "      <td>18.571</td>\n",
       "    </tr>\n",
       "  </tbody>\n",
       "</table>\n",
       "</div>"
      ],
      "text/plain": [
       "   epoch  batch    loss   loss1   loss2   loss3  acc_1   acc_5\n",
       "0      0      0  7.2844  3.3825  3.5619  3.4000  3.571  14.286\n",
       "1      0      1  7.3242  3.4107  3.5726  3.4087  4.464  16.964\n",
       "2      0      2  7.3015  3.4091  3.5532  3.3915  4.762  18.452\n",
       "3      0      3  7.2941  3.3928  3.5618  3.3956  4.464  19.196\n",
       "4      0      4  7.3631  3.4770  3.5440  3.4214  4.643  18.571"
      ]
     },
     "execution_count": 71,
     "metadata": {},
     "output_type": "execute_result"
    }
   ],
   "source": [
    "df.head()"
   ]
  },
  {
   "cell_type": "code",
   "execution_count": 72,
   "id": "06f78388",
   "metadata": {},
   "outputs": [],
   "source": [
    "df.to_csv('train_log_1.csv',index = False)"
   ]
  },
  {
   "cell_type": "code",
   "execution_count": 73,
   "id": "73675e31",
   "metadata": {},
   "outputs": [],
   "source": [
    "t1 = []\n",
    "t5 = []\n",
    "epoch = []\n",
    "for line in open(test_dir, 'r'):\n",
    "    result = re.findall(r'[0-9]+\\.?[0-9]*',line)\n",
    "    epoch.append(int(result[0]))\n",
    "    t1.append(float(result[2]))\n",
    "    t5.append(float(result[4]))\n",
    "df2 = pd.DataFrame({'epoch':epoch, 'top-1':t1, 'top-5':t5})"
   ]
  },
  {
   "cell_type": "code",
   "execution_count": 74,
   "id": "0c6ece76",
   "metadata": {},
   "outputs": [
    {
     "data": {
      "text/html": [
       "<div>\n",
       "<style scoped>\n",
       "    .dataframe tbody tr th:only-of-type {\n",
       "        vertical-align: middle;\n",
       "    }\n",
       "\n",
       "    .dataframe tbody tr th {\n",
       "        vertical-align: top;\n",
       "    }\n",
       "\n",
       "    .dataframe thead th {\n",
       "        text-align: right;\n",
       "    }\n",
       "</style>\n",
       "<table border=\"1\" class=\"dataframe\">\n",
       "  <thead>\n",
       "    <tr style=\"text-align: right;\">\n",
       "      <th></th>\n",
       "      <th>epoch</th>\n",
       "      <th>top-1</th>\n",
       "      <th>top-5</th>\n",
       "    </tr>\n",
       "  </thead>\n",
       "  <tbody>\n",
       "    <tr>\n",
       "      <th>0</th>\n",
       "      <td>0</td>\n",
       "      <td>11.333</td>\n",
       "      <td>35.333</td>\n",
       "    </tr>\n",
       "    <tr>\n",
       "      <th>1</th>\n",
       "      <td>2</td>\n",
       "      <td>20.333</td>\n",
       "      <td>54.000</td>\n",
       "    </tr>\n",
       "    <tr>\n",
       "      <th>2</th>\n",
       "      <td>4</td>\n",
       "      <td>24.000</td>\n",
       "      <td>58.667</td>\n",
       "    </tr>\n",
       "    <tr>\n",
       "      <th>3</th>\n",
       "      <td>6</td>\n",
       "      <td>28.333</td>\n",
       "      <td>65.333</td>\n",
       "    </tr>\n",
       "    <tr>\n",
       "      <th>4</th>\n",
       "      <td>8</td>\n",
       "      <td>31.667</td>\n",
       "      <td>76.000</td>\n",
       "    </tr>\n",
       "  </tbody>\n",
       "</table>\n",
       "</div>"
      ],
      "text/plain": [
       "   epoch   top-1   top-5\n",
       "0      0  11.333  35.333\n",
       "1      2  20.333  54.000\n",
       "2      4  24.000  58.667\n",
       "3      6  28.333  65.333\n",
       "4      8  31.667  76.000"
      ]
     },
     "execution_count": 74,
     "metadata": {},
     "output_type": "execute_result"
    }
   ],
   "source": [
    "df2.head()"
   ]
  },
  {
   "cell_type": "code",
   "execution_count": 75,
   "id": "c7f03587",
   "metadata": {},
   "outputs": [],
   "source": [
    "df2.to_csv('test_log_1.csv',index=False)"
   ]
  },
  {
   "cell_type": "code",
   "execution_count": 76,
   "id": "c282c6e5",
   "metadata": {},
   "outputs": [],
   "source": [
    "summerize = df.groupby(df['epoch']).agg('mean')"
   ]
  },
  {
   "cell_type": "code",
   "execution_count": 77,
   "id": "9888f84a",
   "metadata": {},
   "outputs": [],
   "source": [
    "import matplotlib.pyplot as plt"
   ]
  },
  {
   "cell_type": "code",
   "execution_count": 78,
   "id": "39ebbb4b",
   "metadata": {},
   "outputs": [
    {
     "data": {
      "text/html": [
       "<div>\n",
       "<style scoped>\n",
       "    .dataframe tbody tr th:only-of-type {\n",
       "        vertical-align: middle;\n",
       "    }\n",
       "\n",
       "    .dataframe tbody tr th {\n",
       "        vertical-align: top;\n",
       "    }\n",
       "\n",
       "    .dataframe thead th {\n",
       "        text-align: right;\n",
       "    }\n",
       "</style>\n",
       "<table border=\"1\" class=\"dataframe\">\n",
       "  <thead>\n",
       "    <tr style=\"text-align: right;\">\n",
       "      <th></th>\n",
       "      <th>batch</th>\n",
       "      <th>loss</th>\n",
       "      <th>loss1</th>\n",
       "      <th>loss2</th>\n",
       "      <th>loss3</th>\n",
       "      <th>acc_1</th>\n",
       "      <th>acc_5</th>\n",
       "    </tr>\n",
       "    <tr>\n",
       "      <th>epoch</th>\n",
       "      <th></th>\n",
       "      <th></th>\n",
       "      <th></th>\n",
       "      <th></th>\n",
       "      <th></th>\n",
       "      <th></th>\n",
       "      <th></th>\n",
       "    </tr>\n",
       "  </thead>\n",
       "  <tbody>\n",
       "    <tr>\n",
       "      <th>0</th>\n",
       "      <td>21</td>\n",
       "      <td>7.159251</td>\n",
       "      <td>3.368547</td>\n",
       "      <td>3.450335</td>\n",
       "      <td>3.403721</td>\n",
       "      <td>5.004837</td>\n",
       "      <td>19.955651</td>\n",
       "    </tr>\n",
       "    <tr>\n",
       "      <th>1</th>\n",
       "      <td>21</td>\n",
       "      <td>6.939698</td>\n",
       "      <td>3.218716</td>\n",
       "      <td>3.380770</td>\n",
       "      <td>3.402119</td>\n",
       "      <td>11.163791</td>\n",
       "      <td>38.794721</td>\n",
       "    </tr>\n",
       "    <tr>\n",
       "      <th>2</th>\n",
       "      <td>21</td>\n",
       "      <td>6.813121</td>\n",
       "      <td>3.127912</td>\n",
       "      <td>3.345009</td>\n",
       "      <td>3.402114</td>\n",
       "      <td>18.899093</td>\n",
       "      <td>49.532767</td>\n",
       "    </tr>\n",
       "    <tr>\n",
       "      <th>3</th>\n",
       "      <td>21</td>\n",
       "      <td>6.697088</td>\n",
       "      <td>3.059247</td>\n",
       "      <td>3.297826</td>\n",
       "      <td>3.400079</td>\n",
       "      <td>21.977023</td>\n",
       "      <td>54.532349</td>\n",
       "    </tr>\n",
       "    <tr>\n",
       "      <th>4</th>\n",
       "      <td>21</td>\n",
       "      <td>6.591316</td>\n",
       "      <td>3.014626</td>\n",
       "      <td>3.236765</td>\n",
       "      <td>3.399342</td>\n",
       "      <td>22.597256</td>\n",
       "      <td>56.062953</td>\n",
       "    </tr>\n",
       "  </tbody>\n",
       "</table>\n",
       "</div>"
      ],
      "text/plain": [
       "       batch      loss     loss1     loss2     loss3      acc_1      acc_5\n",
       "epoch                                                                     \n",
       "0         21  7.159251  3.368547  3.450335  3.403721   5.004837  19.955651\n",
       "1         21  6.939698  3.218716  3.380770  3.402119  11.163791  38.794721\n",
       "2         21  6.813121  3.127912  3.345009  3.402114  18.899093  49.532767\n",
       "3         21  6.697088  3.059247  3.297826  3.400079  21.977023  54.532349\n",
       "4         21  6.591316  3.014626  3.236765  3.399342  22.597256  56.062953"
      ]
     },
     "execution_count": 78,
     "metadata": {},
     "output_type": "execute_result"
    }
   ],
   "source": [
    "summerize.head()"
   ]
  },
  {
   "cell_type": "code",
   "execution_count": 80,
   "id": "023d40de",
   "metadata": {
    "scrolled": true
   },
   "outputs": [
    {
     "data": {
      "image/png": "[encoded data removed]",
      "text/plain": [
       "<Figure size 576x432 with 1 Axes>"
      ]
     },
     "metadata": {
      "needs_background": "light"
     },
     "output_type": "display_data"
    }
   ],
   "source": [
    "plt.figure(figsize = (8,6))\n",
    "epochs = range(1, 31)\n",
    "plt.plot(epochs, summerize['loss'], 'bo', label = 'total loss = loss1 + loss2 + 0.1*loss3')\n",
    "plt.plot(epochs, summerize['loss1'], 'r', label = 'loss1')\n",
    "plt.plot(epochs, summerize['loss2'], 'b', label = 'loss2')\n",
    "plt.plot(epochs, summerize['loss3'], 'g', label = 'loss3')\n",
    "plt.title('Training Loss')\n",
    "plt.legend() # 添加图例\n",
    "plt.savefig(\"Training Loss new.png\")\n",
    "plt.show()"
   ]
  },
  {
   "cell_type": "code",
   "execution_count": 81,
   "id": "0b9985da",
   "metadata": {},
   "outputs": [],
   "source": [
    "max_1 = max(summerize['acc_1'])\n",
    "l_max_1 = 'Best train top1 Acc = {:.2f}'.format(max_1)\n",
    "max_5 = max(summerize['acc_5'])\n",
    "l_max_5 = 'Best train top5 Acc = {:.2f}'.format(max_5)\n",
    "max1 = max(df2['top-1'])\n",
    "l_max1 = 'Best test top1 Acc = {:.2f}'.format(max1)\n",
    "max5 = max(df2['top-5'])\n",
    "l_max5 = 'Best test top5 Acc = {:.2f}'.format(max5)"
   ]
  },
  {
   "cell_type": "code",
   "execution_count": 82,
   "id": "cf98b991",
   "metadata": {},
   "outputs": [
    {
     "data": {
      "image/png": "[encoded data removed]",
      "text/plain": [
       "<Figure size 576x432 with 1 Axes>"
      ]
     },
     "metadata": {
      "needs_background": "light"
     },
     "output_type": "display_data"
    }
   ],
   "source": [
    "plt.figure(figsize = (8,6))\n",
    "epochs = range(1, 31)\n",
    "plt.plot(epochs, summerize['acc_1'], 'b', label = l_max_1)\n",
    "plt.plot(epochs, summerize['acc_5'], 'r', label = l_max_5)\n",
    "plt.plot(df2['epoch'], df2['top-1'], 'g', label = l_max1, linestyle = '--')\n",
    "plt.plot(df2['epoch'], df2['top-5'], 'y', label = l_max5, linestyle = '--')\n",
    "# plt.plot([0,25],[max_1, max_1],'dodgerblue', label = l_max_1, linestyle = '--')\n",
    "# plt.plot([0,25],[max_5, max_5],'coral', label = l_max_5, linestyle = '--')\n",
    "\n",
    "plt.title('Training Accuracy')\n",
    "plt.legend() # 添加图例\n",
    "plt.savefig(\"Training Accuracy new.png\")\n",
    "plt.show()"
   ]
  },
  {
   "cell_type": "markdown",
   "id": "e9e9aea5",
   "metadata": {},
   "source": [
    "## 模型部署"
   ]
  },
  {
   "cell_type": "code",
   "execution_count": 1,
   "id": "04bf0b9f",
   "metadata": {},
   "outputs": [],
   "source": [
    "import torch\n",
    "model = torch.load('./log/model_best.pth.tar', map_location='cpu')"
   ]
  },
  {
   "cell_type": "code",
   "execution_count": 2,
   "id": "deaefd14",
   "metadata": {},
   "outputs": [],
   "source": [
    "from utils.transform import *\n",
    "from utils.MyImageFolderWithPaths import *\n",
    "transform_train = get_transform_for_train()\n",
    "train_dataset = ImageFolderWithPaths('../data/train', transform = transform_train)"
   ]
  },
  {
   "cell_type": "code",
   "execution_count": 3,
   "id": "a9e11c04",
   "metadata": {},
   "outputs": [],
   "source": [
    "import torchvision\n",
    "vgg16featuremap = torchvision.models.vgg16_bn(pretrained=True)"
   ]
  },
  {
   "cell_type": "code",
   "execution_count": 4,
   "id": "5a6fba83",
   "metadata": {
    "scrolled": true
   },
   "outputs": [
    {
     "data": {
      "text/plain": [
       "[Conv2d(3, 64, kernel_size=(3, 3), stride=(1, 1), padding=(1, 1)),\n",
       " BatchNorm2d(64, eps=1e-05, momentum=0.1, affine=True, track_running_stats=True),\n",
       " ReLU(inplace=True),\n",
       " Conv2d(64, 64, kernel_size=(3, 3), stride=(1, 1), padding=(1, 1)),\n",
       " BatchNorm2d(64, eps=1e-05, momentum=0.1, affine=True, track_running_stats=True),\n",
       " ReLU(inplace=True),\n",
       " MaxPool2d(kernel_size=2, stride=2, padding=0, dilation=1, ceil_mode=False),\n",
       " Conv2d(64, 128, kernel_size=(3, 3), stride=(1, 1), padding=(1, 1)),\n",
       " BatchNorm2d(128, eps=1e-05, momentum=0.1, affine=True, track_running_stats=True),\n",
       " ReLU(inplace=True),\n",
       " Conv2d(128, 128, kernel_size=(3, 3), stride=(1, 1), padding=(1, 1)),\n",
       " BatchNorm2d(128, eps=1e-05, momentum=0.1, affine=True, track_running_stats=True),\n",
       " ReLU(inplace=True),\n",
       " MaxPool2d(kernel_size=2, stride=2, padding=0, dilation=1, ceil_mode=False),\n",
       " Conv2d(128, 256, kernel_size=(3, 3), stride=(1, 1), padding=(1, 1)),\n",
       " BatchNorm2d(256, eps=1e-05, momentum=0.1, affine=True, track_running_stats=True),\n",
       " ReLU(inplace=True),\n",
       " Conv2d(256, 256, kernel_size=(3, 3), stride=(1, 1), padding=(1, 1)),\n",
       " BatchNorm2d(256, eps=1e-05, momentum=0.1, affine=True, track_running_stats=True),\n",
       " ReLU(inplace=True),\n",
       " Conv2d(256, 256, kernel_size=(3, 3), stride=(1, 1), padding=(1, 1)),\n",
       " BatchNorm2d(256, eps=1e-05, momentum=0.1, affine=True, track_running_stats=True),\n",
       " ReLU(inplace=True),\n",
       " MaxPool2d(kernel_size=2, stride=2, padding=0, dilation=1, ceil_mode=False),\n",
       " Conv2d(256, 512, kernel_size=(3, 3), stride=(1, 1), padding=(1, 1)),\n",
       " BatchNorm2d(512, eps=1e-05, momentum=0.1, affine=True, track_running_stats=True),\n",
       " ReLU(inplace=True),\n",
       " Conv2d(512, 512, kernel_size=(3, 3), stride=(1, 1), padding=(1, 1)),\n",
       " BatchNorm2d(512, eps=1e-05, momentum=0.1, affine=True, track_running_stats=True),\n",
       " ReLU(inplace=True),\n",
       " Conv2d(512, 512, kernel_size=(3, 3), stride=(1, 1), padding=(1, 1)),\n",
       " BatchNorm2d(512, eps=1e-05, momentum=0.1, affine=True, track_running_stats=True),\n",
       " ReLU(inplace=True)]"
      ]
     },
     "execution_count": 4,
     "metadata": {},
     "output_type": "execute_result"
    }
   ],
   "source": [
    "list(vgg16featuremap.features.children())[:-11]"
   ]
  },
  {
   "cell_type": "code",
   "execution_count": 5,
   "id": "ec00310a",
   "metadata": {},
   "outputs": [],
   "source": [
    "from model.DFL import DFL_VGG16\n",
    "import torch.nn as nn\n",
    "\n",
    "model = DFL_VGG16(k = 10, nclass = 30) \n",
    "criterion = nn.CrossEntropyLoss()\n",
    "optimizer = torch.optim.SGD(model.parameters(), lr=0.001, momentum=0.9, weight_decay = 0.000005)\n",
    "checkpoint = torch.load('./log/model_best.pth.tar', map_location='cpu')"
   ]
  },
  {
   "cell_type": "code",
   "execution_count": 6,
   "id": "46da0977",
   "metadata": {},
   "outputs": [],
   "source": [
    "import collections\n",
    "ckpt_new = collections.OrderedDict()"
   ]
  },
  {
   "cell_type": "code",
   "execution_count": 7,
   "id": "157b4122",
   "metadata": {},
   "outputs": [],
   "source": [
    "for layer in checkpoint['state_dict'].keys():\n",
    "    ckpt_new[layer[7:]] = checkpoint['state_dict'][layer]"
   ]
  },
  {
   "cell_type": "code",
   "execution_count": 8,
   "id": "e8838729",
   "metadata": {},
   "outputs": [],
   "source": [
    "start_epoch = checkpoint['epoch']\n",
    "best_prec1 = checkpoint['best_prec1']\n",
    "model.load_state_dict(ckpt_new)\n",
    "optimizer.load_state_dict(checkpoint['optimizer'])"
   ]
  },
  {
   "cell_type": "code",
   "execution_count": 12,
   "id": "0f02cc94",
   "metadata": {},
   "outputs": [
    {
     "data": {
      "text/plain": [
       "odict_keys(['conv1_conv4.0.weight', 'conv1_conv4.0.bias', 'conv1_conv4.1.weight', 'conv1_conv4.1.bias', 'conv1_conv4.1.running_mean', 'conv1_conv4.1.running_var', 'conv1_conv4.1.num_batches_tracked', 'conv1_conv4.3.weight', 'conv1_conv4.3.bias', 'conv1_conv4.4.weight', 'conv1_conv4.4.bias', 'conv1_conv4.4.running_mean', 'conv1_conv4.4.running_var', 'conv1_conv4.4.num_batches_tracked', 'conv1_conv4.7.weight', 'conv1_conv4.7.bias', 'conv1_conv4.8.weight', 'conv1_conv4.8.bias', 'conv1_conv4.8.running_mean', 'conv1_conv4.8.running_var', 'conv1_conv4.8.num_batches_tracked', 'conv1_conv4.10.weight', 'conv1_conv4.10.bias', 'conv1_conv4.11.weight', 'conv1_conv4.11.bias', 'conv1_conv4.11.running_mean', 'conv1_conv4.11.running_var', 'conv1_conv4.11.num_batches_tracked', 'conv1_conv4.14.weight', 'conv1_conv4.14.bias', 'conv1_conv4.15.weight', 'conv1_conv4.15.bias', 'conv1_conv4.15.running_mean', 'conv1_conv4.15.running_var', 'conv1_conv4.15.num_batches_tracked', 'conv1_conv4.17.weight', 'conv1_conv4.17.bias', 'conv1_conv4.18.weight', 'conv1_conv4.18.bias', 'conv1_conv4.18.running_mean', 'conv1_conv4.18.running_var', 'conv1_conv4.18.num_batches_tracked', 'conv1_conv4.20.weight', 'conv1_conv4.20.bias', 'conv1_conv4.21.weight', 'conv1_conv4.21.bias', 'conv1_conv4.21.running_mean', 'conv1_conv4.21.running_var', 'conv1_conv4.21.num_batches_tracked', 'conv1_conv4.24.weight', 'conv1_conv4.24.bias', 'conv1_conv4.25.weight', 'conv1_conv4.25.bias', 'conv1_conv4.25.running_mean', 'conv1_conv4.25.running_var', 'conv1_conv4.25.num_batches_tracked', 'conv1_conv4.27.weight', 'conv1_conv4.27.bias', 'conv1_conv4.28.weight', 'conv1_conv4.28.bias', 'conv1_conv4.28.running_mean', 'conv1_conv4.28.running_var', 'conv1_conv4.28.num_batches_tracked', 'conv1_conv4.30.weight', 'conv1_conv4.30.bias', 'conv1_conv4.31.weight', 'conv1_conv4.31.bias', 'conv1_conv4.31.running_mean', 'conv1_conv4.31.running_var', 'conv1_conv4.31.num_batches_tracked', 'conv5.1.weight', 'conv5.1.bias', 'conv5.2.weight', 'conv5.2.bias', 'conv5.2.running_mean', 'conv5.2.running_var', 'conv5.2.num_batches_tracked', 'conv5.4.weight', 'conv5.4.bias', 'conv5.5.weight', 'conv5.5.bias', 'conv5.5.running_mean', 'conv5.5.running_var', 'conv5.5.num_batches_tracked', 'conv5.7.weight', 'conv5.7.bias', 'conv5.8.weight', 'conv5.8.bias', 'conv5.8.running_mean', 'conv5.8.running_var', 'conv5.8.num_batches_tracked', 'cls5.0.weight', 'cls5.0.bias', 'cls5.1.weight', 'cls5.1.bias', 'cls5.1.running_mean', 'cls5.1.running_var', 'cls5.1.num_batches_tracked', 'conv6.weight', 'conv6.bias', 'cls6.0.weight', 'cls6.0.bias'])"
      ]
     },
     "execution_count": 12,
     "metadata": {},
     "output_type": "execute_result"
    }
   ],
   "source": [
    "ckpt_new.keys()"
   ]
  },
  {
   "cell_type": "code",
   "execution_count": 10,
   "id": "67451b81",
   "metadata": {},
   "outputs": [
    {
     "data": {
      "text/plain": [
       "DFL_VGG16(\n",
       "  (conv1_conv4): Sequential(\n",
       "    (0): Conv2d(3, 64, kernel_size=(3, 3), stride=(1, 1), padding=(1, 1))\n",
       "    (1): BatchNorm2d(64, eps=1e-05, momentum=0.1, affine=True, track_running_stats=True)\n",
       "    (2): ReLU(inplace=True)\n",
       "    (3): Conv2d(64, 64, kernel_size=(3, 3), stride=(1, 1), padding=(1, 1))\n",
       "    (4): BatchNorm2d(64, eps=1e-05, momentum=0.1, affine=True, track_running_stats=True)\n",
       "    (5): ReLU(inplace=True)\n",
       "    (6): MaxPool2d(kernel_size=2, stride=2, padding=0, dilation=1, ceil_mode=False)\n",
       "    (7): Conv2d(64, 128, kernel_size=(3, 3), stride=(1, 1), padding=(1, 1))\n",
       "    (8): BatchNorm2d(128, eps=1e-05, momentum=0.1, affine=True, track_running_stats=True)\n",
       "    (9): ReLU(inplace=True)\n",
       "    (10): Conv2d(128, 128, kernel_size=(3, 3), stride=(1, 1), padding=(1, 1))\n",
       "    (11): BatchNorm2d(128, eps=1e-05, momentum=0.1, affine=True, track_running_stats=True)\n",
       "    (12): ReLU(inplace=True)\n",
       "    (13): MaxPool2d(kernel_size=2, stride=2, padding=0, dilation=1, ceil_mode=False)\n",
       "    (14): Conv2d(128, 256, kernel_size=(3, 3), stride=(1, 1), padding=(1, 1))\n",
       "    (15): BatchNorm2d(256, eps=1e-05, momentum=0.1, affine=True, track_running_stats=True)\n",
       "    (16): ReLU(inplace=True)\n",
       "    (17): Conv2d(256, 256, kernel_size=(3, 3), stride=(1, 1), padding=(1, 1))\n",
       "    (18): BatchNorm2d(256, eps=1e-05, momentum=0.1, affine=True, track_running_stats=True)\n",
       "    (19): ReLU(inplace=True)\n",
       "    (20): Conv2d(256, 256, kernel_size=(3, 3), stride=(1, 1), padding=(1, 1))\n",
       "    (21): BatchNorm2d(256, eps=1e-05, momentum=0.1, affine=True, track_running_stats=True)\n",
       "    (22): ReLU(inplace=True)\n",
       "    (23): MaxPool2d(kernel_size=2, stride=2, padding=0, dilation=1, ceil_mode=False)\n",
       "    (24): Conv2d(256, 512, kernel_size=(3, 3), stride=(1, 1), padding=(1, 1))\n",
       "    (25): BatchNorm2d(512, eps=1e-05, momentum=0.1, affine=True, track_running_stats=True)\n",
       "    (26): ReLU(inplace=True)\n",
       "    (27): Conv2d(512, 512, kernel_size=(3, 3), stride=(1, 1), padding=(1, 1))\n",
       "    (28): BatchNorm2d(512, eps=1e-05, momentum=0.1, affine=True, track_running_stats=True)\n",
       "    (29): ReLU(inplace=True)\n",
       "    (30): Conv2d(512, 512, kernel_size=(3, 3), stride=(1, 1), padding=(1, 1))\n",
       "    (31): BatchNorm2d(512, eps=1e-05, momentum=0.1, affine=True, track_running_stats=True)\n",
       "    (32): ReLU(inplace=True)\n",
       "  )\n",
       "  (conv5): Sequential(\n",
       "    (0): MaxPool2d(kernel_size=2, stride=2, padding=0, dilation=1, ceil_mode=False)\n",
       "    (1): Conv2d(512, 512, kernel_size=(3, 3), stride=(1, 1), padding=(1, 1))\n",
       "    (2): BatchNorm2d(512, eps=1e-05, momentum=0.1, affine=True, track_running_stats=True)\n",
       "    (3): ReLU(inplace=True)\n",
       "    (4): Conv2d(512, 512, kernel_size=(3, 3), stride=(1, 1), padding=(1, 1))\n",
       "    (5): BatchNorm2d(512, eps=1e-05, momentum=0.1, affine=True, track_running_stats=True)\n",
       "    (6): ReLU(inplace=True)\n",
       "    (7): Conv2d(512, 512, kernel_size=(3, 3), stride=(1, 1), padding=(1, 1))\n",
       "    (8): BatchNorm2d(512, eps=1e-05, momentum=0.1, affine=True, track_running_stats=True)\n",
       "    (9): ReLU(inplace=True)\n",
       "    (10): MaxPool2d(kernel_size=2, stride=2, padding=0, dilation=1, ceil_mode=False)\n",
       "  )\n",
       "  (cls5): Sequential(\n",
       "    (0): Conv2d(512, 30, kernel_size=(1, 1), stride=(1, 1))\n",
       "    (1): BatchNorm2d(30, eps=1e-05, momentum=0.1, affine=True, track_running_stats=True)\n",
       "    (2): ReLU(inplace=True)\n",
       "    (3): AdaptiveAvgPool2d(output_size=(1, 1))\n",
       "  )\n",
       "  (conv6): Conv2d(512, 300, kernel_size=(1, 1), stride=(1, 1))\n",
       "  (pool6): MaxPool2d(kernel_size=(56, 56), stride=(56, 56), padding=0, dilation=1, ceil_mode=False)\n",
       "  (cls6): Sequential(\n",
       "    (0): Conv2d(300, 30, kernel_size=(1, 1), stride=(1, 1))\n",
       "    (1): AdaptiveAvgPool2d(output_size=(1, 1))\n",
       "  )\n",
       "  (cross_channel_pool): AvgPool1d(kernel_size=(10,), stride=(10,), padding=(0,))\n",
       ")"
      ]
     },
     "execution_count": 10,
     "metadata": {},
     "output_type": "execute_result"
    }
   ],
   "source": [
    "model"
   ]
  },
  {
   "cell_type": "code",
   "execution_count": 19,
   "id": "58e6c1e1",
   "metadata": {},
   "outputs": [
    {
     "data": {
      "text/plain": [
       "Conv2d(300, 30, kernel_size=(1, 1), stride=(1, 1))"
      ]
     },
     "execution_count": 19,
     "metadata": {},
     "output_type": "execute_result"
    }
   ],
   "source": [
    "model.cls6[0]"
   ]
  },
  {
   "cell_type": "code",
   "execution_count": 5,
   "id": "53fcfbdf",
   "metadata": {},
   "outputs": [],
   "source": [
    "from utils.transform import *\n",
    "def get_transform():\n",
    "    transform_list = []\n",
    "    \n",
    "    transform_list.append(transforms.Lambda(lambda img:scale_keep_ar_min_fixed(img, 448)))\n",
    "    \n",
    "    #transform_list.append(transforms.RandomHorizontalFlip(p=0.3))\n",
    "    \n",
    "    transform_list.append(transforms.CenterCrop((448, 448)))\n",
    "    \n",
    "    transform_list.append(transforms.ToTensor())\n",
    "    \n",
    "    transform_list.append(transforms.Normalize(mean=(0.5,0.5,0.5),std=(0.5,0.5,0.5)))\n",
    "    \n",
    "    return transforms.Compose(transform_list)\n",
    "\n",
    "def transform_onlysize():\n",
    "    transform_list = []\n",
    "    transform_list.append(transforms.Resize(448))\n",
    "    transform_list.append(transforms.CenterCrop((448, 448)))\n",
    "    transform_list.append(transforms.Pad((42, 42)))\n",
    "    return transforms.Compose(transform_list)"
   ]
  },
  {
   "cell_type": "code",
   "execution_count": 32,
   "id": "45c34fb1",
   "metadata": {},
   "outputs": [],
   "source": [
    "#path_img = '../data/val/Eurofighter/2189411.jpg'\n",
    "path_img = './vis-img/boeing.jpg'"
   ]
  },
  {
   "cell_type": "code",
   "execution_count": 3,
   "id": "e9b6386c",
   "metadata": {},
   "outputs": [],
   "source": [
    "index2classlist = train_dataset.index2classlist()"
   ]
  },
  {
   "cell_type": "code",
   "execution_count": 4,
   "id": "f02c81f2",
   "metadata": {},
   "outputs": [
    {
     "data": {
      "text/plain": [
       "['ATR',\n",
       " 'Airbus',\n",
       " 'Antonov',\n",
       " 'Beechcraft',\n",
       " 'Boeing',\n",
       " 'Bombardier Aerospace',\n",
       " 'British Aerospace',\n",
       " 'Canadair',\n",
       " 'Cessna',\n",
       " 'Cirrus Aircraft',\n",
       " 'Dassault Aviation',\n",
       " 'Dornier',\n",
       " 'Douglas Aircraft Company',\n",
       " 'Embraer',\n",
       " 'Eurofighter',\n",
       " 'Fairchild',\n",
       " 'Fokker',\n",
       " 'Gulfstream Aerospace',\n",
       " 'Ilyushin',\n",
       " 'Lockheed Corporation',\n",
       " 'Lockheed Martin',\n",
       " 'McDonnell Douglas',\n",
       " 'Panavia',\n",
       " 'Piper',\n",
       " 'Robin',\n",
       " 'Saab',\n",
       " 'Supermarine',\n",
       " 'Tupolev',\n",
       " 'Yakovlev',\n",
       " 'de Havilland']"
      ]
     },
     "execution_count": 4,
     "metadata": {},
     "output_type": "execute_result"
    }
   ],
   "source": [
    "index2classlist"
   ]
  },
  {
   "cell_type": "markdown",
   "id": "a6ceba45",
   "metadata": {},
   "source": [
    "##### BBox"
   ]
  },
  {
   "cell_type": "code",
   "execution_count": 33,
   "id": "87af5e9f",
   "metadata": {},
   "outputs": [],
   "source": [
    "from PIL import Image, ImageFont, ImageDraw\n",
    "\n",
    "transform1 = get_transform()       # transform for predict \n",
    "transform2 = transform_onlysize()  # transform for draw\n",
    "img = Image.open(path_img)\n",
    "img_pad = transform2(img)\n",
    "img_tensor = transform1(img)\n",
    "img_tensor = img_tensor.unsqueeze(0)\n",
    "out1, out2, out3, indices = model(img_tensor)\n",
    "out = out1 + out2 + 0.1 *out3"
   ]
  },
  {
   "cell_type": "code",
   "execution_count": 25,
   "id": "474e8f33",
   "metadata": {},
   "outputs": [],
   "source": [
    "import numpy as np"
   ]
  },
  {
   "cell_type": "code",
   "execution_count": 34,
   "id": "cb45293b",
   "metadata": {},
   "outputs": [],
   "source": [
    "value, index = torch.max(out.cpu(), 1)\n",
    "vrange = np.arange(0, 10)  \n",
    "# select from index - index+9 in 2000\n",
    "# in test I use 1st class, so I choose indices[0, 9] \n",
    "for i in vrange:\n",
    "    indice = indices[0, i]\n",
    "    row, col = indice/56, indice%56\n",
    "    p_tl = (8*col, 8*row)\n",
    "    p_br = (col*8+92, row*8+92)\n",
    "    draw = ImageDraw.Draw(img_pad)\n",
    "    draw.rectangle((p_tl, p_br), outline='red')\n",
    "    \n",
    "idx = int(index[0])\n",
    "dirname = index2classlist[idx]\n",
    "\n",
    "filename = 'boeing_bbox_'+ dirname +'.jpg'\n",
    "filepath = os.path.join('CAM',filename)\n",
    "img_pad.save(filepath, \"JPEG\") "
   ]
  },
  {
   "cell_type": "code",
   "execution_count": 29,
   "id": "cefd5cc7",
   "metadata": {},
   "outputs": [],
   "source": [
    "import numpy as np\n",
    "out = out1 + out2 + 0.1 *out3\n",
    "\n",
    "value, index = torch.max(out.cpu(), 1)\n",
    "vrange = np.arange(0, 10)"
   ]
  },
  {
   "cell_type": "code",
   "execution_count": 31,
   "id": "d7de2967",
   "metadata": {},
   "outputs": [],
   "source": [
    "idx = int(index[0])"
   ]
  },
  {
   "cell_type": "code",
   "execution_count": 36,
   "id": "1b0a7869",
   "metadata": {},
   "outputs": [],
   "source": [
    "for i in vrange:\n",
    "    indice = indices[0, i]\n",
    "    row, col = indice/56, indice%56\n",
    "    p_tl = (8*col, 8*row)\n",
    "    p_br = (col*8+92, row*8+92)\n",
    "    draw = ImageDraw.Draw(img_pad)\n",
    "    draw.rectangle((p_tl, p_br), outline='red')\n",
    "filename = index2classlist[idx] + '_try.jpg'\n",
    "img_pad.save(filename, \"JPEG\")"
   ]
  },
  {
   "cell_type": "code",
   "execution_count": 51,
   "id": "3a64daa2",
   "metadata": {},
   "outputs": [
    {
     "data": {
      "text/plain": [
       "Conv2d(512, 512, kernel_size=(3, 3), stride=(1, 1), padding=(1, 1))"
      ]
     },
     "execution_count": 51,
     "metadata": {},
     "output_type": "execute_result"
    }
   ],
   "source": [
    "model.conv5[7]"
   ]
  },
  {
   "cell_type": "code",
   "execution_count": 53,
   "id": "723711f3",
   "metadata": {},
   "outputs": [
    {
     "data": {
      "text/plain": [
       "Conv2d(512, 300, kernel_size=(1, 1), stride=(1, 1))"
      ]
     },
     "execution_count": 53,
     "metadata": {},
     "output_type": "execute_result"
    }
   ],
   "source": [
    "model.conv6"
   ]
  },
  {
   "cell_type": "markdown",
   "id": "c775a1a7",
   "metadata": {},
   "source": [
    "##### CAM"
   ]
  },
  {
   "cell_type": "code",
   "execution_count": 23,
   "id": "e4c34dae",
   "metadata": {},
   "outputs": [],
   "source": [
    "#FUNCTION\n",
    "def backward_hook(module, grad_in, grad_out):\n",
    "    grad_block.append(grad_out[0].detach())\n",
    "\n",
    "# 定义获取特征图的函数\n",
    "def farward_hook(module, input, output):\n",
    "    fmap_block.append(output)\n",
    "    \n",
    "def cam_show_img(img, feature_map, grads, out_dir, fname):\n",
    "    H, W, _ = img.shape\n",
    "    cam = np.zeros(feature_map.shape[1:], dtype=np.float32)  # 4\n",
    "    grads = grads.reshape([grads.shape[0], -1])  # 5\n",
    "    weights = np.max(grads, axis=1)  # 6\n",
    "    for i, w in enumerate(weights):\n",
    "        cam += w * feature_map[i, :, :]  # 7\n",
    "    cam = np.maximum(cam, 0)\n",
    "    cam = cam / cam.max()\n",
    "    cam = cv2.resize(cam, (W, H))\n",
    "\n",
    "    heatmap = cv2.applyColorMap(np.uint8(255 * cam), cv2.COLORMAP_JET)\n",
    "    cam_img = 0.3 * heatmap + 0.7 * img\n",
    "\n",
    "    path_cam_img = os.path.join(out_dir, fname)\n",
    "    cv2.imwrite(path_cam_img, cam_img)\n",
    "    return cam_img"
   ]
  },
  {
   "cell_type": "code",
   "execution_count": 8,
   "id": "913c29b4",
   "metadata": {},
   "outputs": [],
   "source": [
    "import cv2\n",
    "import numpy as np"
   ]
  },
  {
   "cell_type": "code",
   "execution_count": 24,
   "id": "8d8b4386",
   "metadata": {
    "scrolled": true
   },
   "outputs": [
    {
     "name": "stderr",
     "output_type": "stream",
     "text": [
      "C:\\Users\\lzl70\\anaconda3\\envs\\pytorch\\lib\\site-packages\\torch\\nn\\modules\\module.py:974: UserWarning: Using a non-full backward hook when the forward contains multiple autograd Nodes is deprecated and will be removed in future versions. This hook will be missing some grad_input. Please use register_full_backward_hook to get the documented behavior.\n",
      "  warnings.warn(\"Using a non-full backward hook when the forward contains multiple autograd Nodes \"\n"
     ]
    },
    {
     "data": {
      "text/plain": [
       "array([[[107. ,  53.9,  43.4],\n",
       "        [107. ,  53.9,  43.4],\n",
       "        [106.3,  53.2,  42.7],\n",
       "        ...,\n",
       "        [125.9,  65.8,  42.7],\n",
       "        [125.9,  65.8,  42.7],\n",
       "        [124.5,  66.5,  42.7]],\n",
       "\n",
       "       [[106.3,  53.2,  42.7],\n",
       "        [106.3,  53.2,  42.7],\n",
       "        [106.3,  53.2,  42.7],\n",
       "        ...,\n",
       "        [126.6,  67.2,  42.7],\n",
       "        [125.9,  66.5,  42. ],\n",
       "        [124.5,  66.5,  42. ]],\n",
       "\n",
       "       [[104.9,  53.2,  42.7],\n",
       "        [104.9,  53.2,  42.7],\n",
       "        [104.9,  53.2,  42.7],\n",
       "        ...,\n",
       "        [126.6,  67.9,  42. ],\n",
       "        [124.5,  67.2,  41.3],\n",
       "        [124.5,  66.5,  42. ]],\n",
       "\n",
       "       ...,\n",
       "\n",
       "       [[ 46.8,   1.4,   0. ],\n",
       "        [ 89.5,  43.4,  33.6],\n",
       "        [129.4,  80.5,  69.3],\n",
       "        ...,\n",
       "        [ 38.4,   0. ,   0. ],\n",
       "        [ 38.4,   0. ,   0. ],\n",
       "        [ 38.4,   0. ,   0. ]],\n",
       "\n",
       "       [[ 38.4,   0.7,   4.2],\n",
       "        [ 38.4,   0. ,   2.1],\n",
       "        [ 39.1,   0.7,   0.7],\n",
       "        ...,\n",
       "        [ 38.4,   0. ,   0. ],\n",
       "        [ 38.4,   0. ,   0. ],\n",
       "        [ 38.4,   0. ,   0. ]],\n",
       "\n",
       "       [[ 38.4,   0. ,   0. ],\n",
       "        [ 40.5,   0.7,   0. ],\n",
       "        [ 41.2,   0.7,   0. ],\n",
       "        ...,\n",
       "        [ 38.4,   0. ,   0. ],\n",
       "        [ 38.4,   0. ,   0. ],\n",
       "        [ 38.4,   0. ,   0. ]]])"
      ]
     },
     "execution_count": 24,
     "metadata": {},
     "output_type": "execute_result"
    }
   ],
   "source": [
    "numm = 5\n",
    "model = DFL_VGG16(k = 10, nclass = 30) \n",
    "criterion = nn.CrossEntropyLoss()\n",
    "optimizer = torch.optim.SGD(model.parameters(), lr=0.001, momentum=0.9, weight_decay = 0.000005)\n",
    "checkpoint = torch.load('./log/model_best.pth.tar', map_location='cpu')\n",
    "ckpt_new = collections.OrderedDict()\n",
    "for layer in checkpoint['state_dict'].keys():\n",
    "    ckpt_new[layer[7:]] = checkpoint['state_dict'][layer]\n",
    "start_epoch = checkpoint['epoch']\n",
    "best_prec1 = checkpoint['best_prec1']\n",
    "model.load_state_dict(ckpt_new)\n",
    "optimizer.load_state_dict(checkpoint['optimizer'])\n",
    "transform1 = get_transform()\n",
    "\n",
    "#path_img = '../data/val/Eurofighter/2189411.jpg'\n",
    "path_img = './vis-img/'+str(numm)+'.jpg'\n",
    "\n",
    "img = Image.open(path_img)\n",
    "img_ = cv2.imread(path_img, 1)\n",
    "img_tensor = transform1(img)\n",
    "img_tensor = img_tensor.unsqueeze(0)\n",
    "\n",
    "fmap_block = list()\n",
    "grad_block = list()\n",
    "model.eval()\n",
    "\n",
    "model.conv5[7].register_forward_hook(farward_hook)\n",
    "model.conv5[7].register_backward_hook(backward_hook)\n",
    "\n",
    "out1, out2, out3, indices = model(img_tensor)\n",
    "out = out1 + out2 + 0.1 *out3\n",
    "value, index = torch.max(out.cpu(), 1)\n",
    "idx = int(index[0])\n",
    "model.zero_grad()\n",
    "\n",
    "size = out[0, idx].shape\n",
    "loss_total = torch.empty(size)\n",
    "loss_total += out[0, idx]\n",
    "loss_total.backward()\n",
    "grads_val = grad_block[0].cpu().data.numpy().squeeze()\n",
    "fmap = fmap_block[0].cpu().data.numpy().squeeze()\n",
    "\n",
    "name = index2classlist[idx] +'_'+str(numm)+'_conv5.jpg'\n",
    "cam_show_img(img_, fmap, grads_val, 'CAM', name)"
   ]
  },
  {
   "cell_type": "code",
   "execution_count": 22,
   "id": "7f57e181",
   "metadata": {},
   "outputs": [
    {
     "data": {
      "text/plain": [
       "Sequential(\n",
       "  (0): Conv2d(300, 30, kernel_size=(1, 1), stride=(1, 1))\n",
       "  (1): AdaptiveAvgPool2d(output_size=(1, 1))\n",
       ")"
      ]
     },
     "execution_count": 22,
     "metadata": {},
     "output_type": "execute_result"
    }
   ],
   "source": [
    "model.cls6"
   ]
  },
  {
   "cell_type": "code",
   "execution_count": 25,
   "id": "0538ddd3",
   "metadata": {
    "scrolled": false
   },
   "outputs": [
    {
     "name": "stderr",
     "output_type": "stream",
     "text": [
      "C:\\Users\\lzl70\\anaconda3\\envs\\pytorch\\lib\\site-packages\\torch\\nn\\modules\\module.py:974: UserWarning: Using a non-full backward hook when the forward contains multiple autograd Nodes is deprecated and will be removed in future versions. This hook will be missing some grad_input. Please use register_full_backward_hook to get the documented behavior.\n",
      "  warnings.warn(\"Using a non-full backward hook when the forward contains multiple autograd Nodes \"\n"
     ]
    },
    {
     "name": "stdout",
     "output_type": "stream",
     "text": [
      "Dornier\n"
     ]
    },
    {
     "data": {
      "text/plain": [
       "array([[[211. , 142.8, 143.5],\n",
       "        [211. , 142.8, 143.5],\n",
       "        [211.7, 143.5, 144.2],\n",
       "        ...,\n",
       "        [200.1, 149.8, 151.9],\n",
       "        [199.4, 149.1, 151.2],\n",
       "        [199.4, 149.1, 151.2]],\n",
       "\n",
       "       [[211. , 142.8, 143.5],\n",
       "        [211. , 142.8, 143.5],\n",
       "        [211.7, 143.5, 144.2],\n",
       "        ...,\n",
       "        [199.4, 149.1, 151.2],\n",
       "        [199.4, 149.1, 151.2],\n",
       "        [199.4, 149.1, 151.2]],\n",
       "\n",
       "       [[211. , 142.8, 143.5],\n",
       "        [211. , 142.8, 143.5],\n",
       "        [211.7, 143.5, 144.2],\n",
       "        ...,\n",
       "        [199.4, 149.8, 149.8],\n",
       "        [199.4, 149.8, 149.8],\n",
       "        [198.7, 149.1, 149.1]],\n",
       "\n",
       "       ...,\n",
       "\n",
       "       [[ 70.8,   0. ,   0. ],\n",
       "        [ 70.8,   0. ,   0. ],\n",
       "        [249.3, 178.5, 178.5],\n",
       "        ...,\n",
       "        [185.5, 123.2, 121.1],\n",
       "        [ 95.9,  35. ,  32.2],\n",
       "        [ 61.6,   0.7,   0. ]],\n",
       "\n",
       "       [[ 72.2,   1.4,   1.4],\n",
       "        [ 70.8,   0. ,   0. ],\n",
       "        [247.9, 177.1, 177.1],\n",
       "        ...,\n",
       "        [178.5, 116.2, 114.1],\n",
       "        [112. ,  51.1,  48.3],\n",
       "        [ 74.2,  13.3,  10.5]],\n",
       "\n",
       "       [[ 70.8,   0. ,   0. ],\n",
       "        [ 70.8,   0. ,   0. ],\n",
       "        [ 70.8,   0. ,   0. ],\n",
       "        ...,\n",
       "        [ 70.7,   8.4,   6.3],\n",
       "        [ 62.3,   0.7,   0. ],\n",
       "        [ 61.6,   0. ,   0. ]]])"
      ]
     },
     "execution_count": 25,
     "metadata": {},
     "output_type": "execute_result"
    }
   ],
   "source": [
    "numm = 4\n",
    "model = DFL_VGG16(k = 10, nclass = 30) \n",
    "criterion = nn.CrossEntropyLoss()\n",
    "optimizer = torch.optim.SGD(model.parameters(), lr=0.001, momentum=0.9, weight_decay = 0.000005)\n",
    "checkpoint = torch.load('./log/model_best.pth.tar', map_location='cpu')\n",
    "ckpt_new = collections.OrderedDict()\n",
    "for layer in checkpoint['state_dict'].keys():\n",
    "    ckpt_new[layer[7:]] = checkpoint['state_dict'][layer]\n",
    "start_epoch = checkpoint['epoch']\n",
    "best_prec1 = checkpoint['best_prec1']\n",
    "model.load_state_dict(ckpt_new)\n",
    "optimizer.load_state_dict(checkpoint['optimizer'])\n",
    "transform1 = get_transform()\n",
    "\n",
    "#path_img = '../data/val/Eurofighter/2189411.jpg'\n",
    "path_img = './vis-img/'+str(numm)+'.jpg'\n",
    "\n",
    "img = Image.open(path_img)\n",
    "img_ = cv2.imread(path_img, 1)\n",
    "img_tensor = transform1(img)\n",
    "img_tensor = img_tensor.unsqueeze(0)\n",
    "\n",
    "fmap_block = list()\n",
    "grad_block = list()\n",
    "model.eval()\n",
    "\n",
    "# model.conv5[7].register_forward_hook(farward_hook)\n",
    "# model.conv5[7].register_backward_hook(backward_hook)\n",
    "\n",
    "model.conv6.register_forward_hook(farward_hook)\n",
    "model.conv6.register_backward_hook(backward_hook)\n",
    "\n",
    "out1, out2, out3, indices = model(img_tensor)\n",
    "out = out1 + out2 + 0.1 *out3\n",
    "value, index = torch.max(out.cpu(), 1)\n",
    "idx = int(index[0])\n",
    "print(index2classlist[idx])\n",
    "\n",
    "model.zero_grad()\n",
    "\n",
    "size = out[0, idx].shape\n",
    "loss_total = torch.empty(size)\n",
    "loss_total += out[0, idx]\n",
    "loss_total.backward()\n",
    "grads_val = grad_block[0].cpu().data.numpy().squeeze()\n",
    "fmap = fmap_block[0].cpu().data.numpy().squeeze()\n",
    "\n",
    "name = index2classlist[idx] +'_'+str(numm)+'_conv6.jpg'\n",
    "cam_show_img(img_, fmap, grads_val, 'log', name)"
   ]
  },
  {
   "cell_type": "code",
   "execution_count": null,
   "id": "97b169ac",
   "metadata": {},
   "outputs": [],
   "source": []
  }
 ],
 "metadata": {
  "kernelspec": {
   "display_name": "Python [conda env:pytorch]",
   "language": "python",
   "name": "conda-env-pytorch-py"
  },
  "language_info": {
   "codemirror_mode": {
    "name": "ipython",
    "version": 3
   },
   "file_extension": ".py",
   "mimetype": "text/x-python",
   "name": "python",
   "nbconvert_exporter": "python",
   "pygments_lexer": "ipython3",
   "version": "3.6.13"
  }
 },
 "nbformat": 4,
 "nbformat_minor": 5
}
